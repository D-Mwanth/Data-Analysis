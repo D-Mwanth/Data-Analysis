{
  "nbformat": 4,
  "nbformat_minor": 0,
  "metadata": {
    "colab": {
      "provenance": [],
      "collapsed_sections": []
    },
    "kernelspec": {
      "name": "python3",
      "display_name": "Python 3"
    },
    "language_info": {
      "name": "python"
    }
  },
  "cells": [
    {
      "cell_type": "code",
      "execution_count": 1,
      "metadata": {
        "id": "JGNIEwUEefkY"
      },
      "outputs": [],
      "source": [
        "# Import dependencies\n",
        "import numpy as np\n",
        "import pandas as pd\n",
        "import matplotlib.pyplot as plt"
      ]
    },
    {
      "cell_type": "markdown",
      "source": [
        "### 🔑Note: \n",
        "The line of code below is responsible for creating plots with dark background. You can do run this notebook without turning it on. If you are going to turn it on, you will not see the values of the tables we create using pandas dataframe later in this notebook. So I recomment if you can run the code atleast once with this line witch of and then after you've seen the results of the enter notebook you can turn it on and specificaly rerun only your plotting celling with exlusion of the tables."
      ],
      "metadata": {
        "id": "_8quVZlC_jxl"
      }
    },
    {
      "cell_type": "code",
      "source": [
        "plt.style.use('dark_background')"
      ],
      "metadata": {
        "id": "8hVZ1rcu_iJU"
      },
      "execution_count": 55,
      "outputs": []
    },
    {
      "cell_type": "code",
      "source": [
        "# read in the data\n",
        "data = pd.read_csv(\"/content/drive/MyDrive/Datasets/Dataset.csv\")\n",
        "data.head()"
      ],
      "metadata": {
        "colab": {
          "base_uri": "https://localhost:8080/",
          "height": 206
        },
        "id": "9ZhN-8ileszC",
        "outputId": "ac527a9e-70ad-4ab4-de95-93ee19f3fa3c"
      },
      "execution_count": 3,
      "outputs": [
        {
          "output_type": "execute_result",
          "data": {
            "text/plain": [
              "        start_time      stop_time  start_station_id  \\\n",
              "0  5/31/2018 23:59  6/1/2018 0:12               312   \n",
              "1  5/31/2018 23:59  6/1/2018 0:12               401   \n",
              "2  5/31/2018 23:59  6/1/2018 0:08               483   \n",
              "3  5/31/2018 23:59  6/1/2018 0:07              3107   \n",
              "4  5/31/2018 23:59  6/1/2018 0:07              3341   \n",
              "\n",
              "             start_station_name  end_station_id            end_station_name  \\\n",
              "0         Allen St & Stanton St             460          S 4 St & Wythe Ave   \n",
              "1       Allen St & Rivington St             360        William St & Pine St   \n",
              "2               E 12 St & 3 Ave             368          Carmine St & 6 Ave   \n",
              "3      Bedford Ave & Nassau Ave            3076  Scholes St & Manhattan Ave   \n",
              "4  Central Park West & W 102 St            3400      E 110 St & Madison Ave   \n",
              "\n",
              "    user_type  bike_id  gender  age  trip_duration  \n",
              "0  Subscriber    25805    male   32          12.97  \n",
              "1  Subscriber    17258    male   24          12.45  \n",
              "2  Subscriber    19692    male   39           8.28  \n",
              "3  Subscriber    28285    male   28           7.75  \n",
              "4  Subscriber    21000  female   51           8.05  "
            ],
            "text/html": [
              "\n",
              "  <div id=\"df-a9ebbbca-948e-442d-8c00-c23d1cd593f8\">\n",
              "    <div class=\"colab-df-container\">\n",
              "      <div>\n",
              "<style scoped>\n",
              "    .dataframe tbody tr th:only-of-type {\n",
              "        vertical-align: middle;\n",
              "    }\n",
              "\n",
              "    .dataframe tbody tr th {\n",
              "        vertical-align: top;\n",
              "    }\n",
              "\n",
              "    .dataframe thead th {\n",
              "        text-align: right;\n",
              "    }\n",
              "</style>\n",
              "<table border=\"1\" class=\"dataframe\">\n",
              "  <thead>\n",
              "    <tr style=\"text-align: right;\">\n",
              "      <th></th>\n",
              "      <th>start_time</th>\n",
              "      <th>stop_time</th>\n",
              "      <th>start_station_id</th>\n",
              "      <th>start_station_name</th>\n",
              "      <th>end_station_id</th>\n",
              "      <th>end_station_name</th>\n",
              "      <th>user_type</th>\n",
              "      <th>bike_id</th>\n",
              "      <th>gender</th>\n",
              "      <th>age</th>\n",
              "      <th>trip_duration</th>\n",
              "    </tr>\n",
              "  </thead>\n",
              "  <tbody>\n",
              "    <tr>\n",
              "      <th>0</th>\n",
              "      <td>5/31/2018 23:59</td>\n",
              "      <td>6/1/2018 0:12</td>\n",
              "      <td>312</td>\n",
              "      <td>Allen St &amp; Stanton St</td>\n",
              "      <td>460</td>\n",
              "      <td>S 4 St &amp; Wythe Ave</td>\n",
              "      <td>Subscriber</td>\n",
              "      <td>25805</td>\n",
              "      <td>male</td>\n",
              "      <td>32</td>\n",
              "      <td>12.97</td>\n",
              "    </tr>\n",
              "    <tr>\n",
              "      <th>1</th>\n",
              "      <td>5/31/2018 23:59</td>\n",
              "      <td>6/1/2018 0:12</td>\n",
              "      <td>401</td>\n",
              "      <td>Allen St &amp; Rivington St</td>\n",
              "      <td>360</td>\n",
              "      <td>William St &amp; Pine St</td>\n",
              "      <td>Subscriber</td>\n",
              "      <td>17258</td>\n",
              "      <td>male</td>\n",
              "      <td>24</td>\n",
              "      <td>12.45</td>\n",
              "    </tr>\n",
              "    <tr>\n",
              "      <th>2</th>\n",
              "      <td>5/31/2018 23:59</td>\n",
              "      <td>6/1/2018 0:08</td>\n",
              "      <td>483</td>\n",
              "      <td>E 12 St &amp; 3 Ave</td>\n",
              "      <td>368</td>\n",
              "      <td>Carmine St &amp; 6 Ave</td>\n",
              "      <td>Subscriber</td>\n",
              "      <td>19692</td>\n",
              "      <td>male</td>\n",
              "      <td>39</td>\n",
              "      <td>8.28</td>\n",
              "    </tr>\n",
              "    <tr>\n",
              "      <th>3</th>\n",
              "      <td>5/31/2018 23:59</td>\n",
              "      <td>6/1/2018 0:07</td>\n",
              "      <td>3107</td>\n",
              "      <td>Bedford Ave &amp; Nassau Ave</td>\n",
              "      <td>3076</td>\n",
              "      <td>Scholes St &amp; Manhattan Ave</td>\n",
              "      <td>Subscriber</td>\n",
              "      <td>28285</td>\n",
              "      <td>male</td>\n",
              "      <td>28</td>\n",
              "      <td>7.75</td>\n",
              "    </tr>\n",
              "    <tr>\n",
              "      <th>4</th>\n",
              "      <td>5/31/2018 23:59</td>\n",
              "      <td>6/1/2018 0:07</td>\n",
              "      <td>3341</td>\n",
              "      <td>Central Park West &amp; W 102 St</td>\n",
              "      <td>3400</td>\n",
              "      <td>E 110 St &amp; Madison Ave</td>\n",
              "      <td>Subscriber</td>\n",
              "      <td>21000</td>\n",
              "      <td>female</td>\n",
              "      <td>51</td>\n",
              "      <td>8.05</td>\n",
              "    </tr>\n",
              "  </tbody>\n",
              "</table>\n",
              "</div>\n",
              "      <button class=\"colab-df-convert\" onclick=\"convertToInteractive('df-a9ebbbca-948e-442d-8c00-c23d1cd593f8')\"\n",
              "              title=\"Convert this dataframe to an interactive table.\"\n",
              "              style=\"display:none;\">\n",
              "        \n",
              "  <svg xmlns=\"http://www.w3.org/2000/svg\" height=\"24px\"viewBox=\"0 0 24 24\"\n",
              "       width=\"24px\">\n",
              "    <path d=\"M0 0h24v24H0V0z\" fill=\"none\"/>\n",
              "    <path d=\"M18.56 5.44l.94 2.06.94-2.06 2.06-.94-2.06-.94-.94-2.06-.94 2.06-2.06.94zm-11 1L8.5 8.5l.94-2.06 2.06-.94-2.06-.94L8.5 2.5l-.94 2.06-2.06.94zm10 10l.94 2.06.94-2.06 2.06-.94-2.06-.94-.94-2.06-.94 2.06-2.06.94z\"/><path d=\"M17.41 7.96l-1.37-1.37c-.4-.4-.92-.59-1.43-.59-.52 0-1.04.2-1.43.59L10.3 9.45l-7.72 7.72c-.78.78-.78 2.05 0 2.83L4 21.41c.39.39.9.59 1.41.59.51 0 1.02-.2 1.41-.59l7.78-7.78 2.81-2.81c.8-.78.8-2.07 0-2.86zM5.41 20L4 18.59l7.72-7.72 1.47 1.35L5.41 20z\"/>\n",
              "  </svg>\n",
              "      </button>\n",
              "      \n",
              "  <style>\n",
              "    .colab-df-container {\n",
              "      display:flex;\n",
              "      flex-wrap:wrap;\n",
              "      gap: 12px;\n",
              "    }\n",
              "\n",
              "    .colab-df-convert {\n",
              "      background-color: #E8F0FE;\n",
              "      border: none;\n",
              "      border-radius: 50%;\n",
              "      cursor: pointer;\n",
              "      display: none;\n",
              "      fill: #1967D2;\n",
              "      height: 32px;\n",
              "      padding: 0 0 0 0;\n",
              "      width: 32px;\n",
              "    }\n",
              "\n",
              "    .colab-df-convert:hover {\n",
              "      background-color: #E2EBFA;\n",
              "      box-shadow: 0px 1px 2px rgba(60, 64, 67, 0.3), 0px 1px 3px 1px rgba(60, 64, 67, 0.15);\n",
              "      fill: #174EA6;\n",
              "    }\n",
              "\n",
              "    [theme=dark] .colab-df-convert {\n",
              "      background-color: #3B4455;\n",
              "      fill: #D2E3FC;\n",
              "    }\n",
              "\n",
              "    [theme=dark] .colab-df-convert:hover {\n",
              "      background-color: #434B5C;\n",
              "      box-shadow: 0px 1px 3px 1px rgba(0, 0, 0, 0.15);\n",
              "      filter: drop-shadow(0px 1px 2px rgba(0, 0, 0, 0.3));\n",
              "      fill: #FFFFFF;\n",
              "    }\n",
              "  </style>\n",
              "\n",
              "      <script>\n",
              "        const buttonEl =\n",
              "          document.querySelector('#df-a9ebbbca-948e-442d-8c00-c23d1cd593f8 button.colab-df-convert');\n",
              "        buttonEl.style.display =\n",
              "          google.colab.kernel.accessAllowed ? 'block' : 'none';\n",
              "\n",
              "        async function convertToInteractive(key) {\n",
              "          const element = document.querySelector('#df-a9ebbbca-948e-442d-8c00-c23d1cd593f8');\n",
              "          const dataTable =\n",
              "            await google.colab.kernel.invokeFunction('convertToInteractive',\n",
              "                                                     [key], {});\n",
              "          if (!dataTable) return;\n",
              "\n",
              "          const docLinkHtml = 'Like what you see? Visit the ' +\n",
              "            '<a target=\"_blank\" href=https://colab.research.google.com/notebooks/data_table.ipynb>data table notebook</a>'\n",
              "            + ' to learn more about interactive tables.';\n",
              "          element.innerHTML = '';\n",
              "          dataTable['output_type'] = 'display_data';\n",
              "          await google.colab.output.renderOutput(dataTable, element);\n",
              "          const docLink = document.createElement('div');\n",
              "          docLink.innerHTML = docLinkHtml;\n",
              "          element.appendChild(docLink);\n",
              "        }\n",
              "      </script>\n",
              "    </div>\n",
              "  </div>\n",
              "  "
            ]
          },
          "metadata": {},
          "execution_count": 3
        }
      ]
    },
    {
      "cell_type": "code",
      "source": [
        "# Get a look at the data tail\n",
        "data.tail()"
      ],
      "metadata": {
        "colab": {
          "base_uri": "https://localhost:8080/",
          "height": 206
        },
        "id": "oD3TNetGLvj9",
        "outputId": "09bff36e-a202-4653-e15f-42eca009c1f4"
      },
      "execution_count": 4,
      "outputs": [
        {
          "output_type": "execute_result",
          "data": {
            "text/plain": [
              "             start_time       stop_time  start_station_id  \\\n",
              "1048570  5/10/2018 7:54  5/10/2018 8:10               482   \n",
              "1048571  5/10/2018 7:54  5/10/2018 7:56               241   \n",
              "1048572  5/10/2018 7:54  5/10/2018 8:22               427   \n",
              "1048573  5/10/2018 7:54  5/10/2018 8:01               492   \n",
              "1048574  5/10/2018 7:54  5/10/2018 8:04               161   \n",
              "\n",
              "                  start_station_name  end_station_id         end_station_name  \\\n",
              "1048570              W 15 St & 7 Ave             173       Broadway & W 49 St   \n",
              "1048571  DeKalb Ave & S Portland Ave             324  DeKalb Ave & Hudson Ave   \n",
              "1048572          Bus Slip & State St             448         W 37 St & 10 Ave   \n",
              "1048573              W 33 St & 7 Ave             517    Pershing Square South   \n",
              "1048574        LaGuardia Pl & W 3 St             268    Howard St & Centre St   \n",
              "\n",
              "          user_type  bike_id  gender  age  trip_duration  \n",
              "1048570  Subscriber    30426  female   25          16.03  \n",
              "1048571  Subscriber    18292    male   28           1.93  \n",
              "1048572  Subscriber    31663    male   53          27.38  \n",
              "1048573  Subscriber    32680    male   48           6.62  \n",
              "1048574  Subscriber    15687    male   26           9.55  "
            ],
            "text/html": [
              "\n",
              "  <div id=\"df-f8204bd5-4c47-489a-83e9-0920a4109d3c\">\n",
              "    <div class=\"colab-df-container\">\n",
              "      <div>\n",
              "<style scoped>\n",
              "    .dataframe tbody tr th:only-of-type {\n",
              "        vertical-align: middle;\n",
              "    }\n",
              "\n",
              "    .dataframe tbody tr th {\n",
              "        vertical-align: top;\n",
              "    }\n",
              "\n",
              "    .dataframe thead th {\n",
              "        text-align: right;\n",
              "    }\n",
              "</style>\n",
              "<table border=\"1\" class=\"dataframe\">\n",
              "  <thead>\n",
              "    <tr style=\"text-align: right;\">\n",
              "      <th></th>\n",
              "      <th>start_time</th>\n",
              "      <th>stop_time</th>\n",
              "      <th>start_station_id</th>\n",
              "      <th>start_station_name</th>\n",
              "      <th>end_station_id</th>\n",
              "      <th>end_station_name</th>\n",
              "      <th>user_type</th>\n",
              "      <th>bike_id</th>\n",
              "      <th>gender</th>\n",
              "      <th>age</th>\n",
              "      <th>trip_duration</th>\n",
              "    </tr>\n",
              "  </thead>\n",
              "  <tbody>\n",
              "    <tr>\n",
              "      <th>1048570</th>\n",
              "      <td>5/10/2018 7:54</td>\n",
              "      <td>5/10/2018 8:10</td>\n",
              "      <td>482</td>\n",
              "      <td>W 15 St &amp; 7 Ave</td>\n",
              "      <td>173</td>\n",
              "      <td>Broadway &amp; W 49 St</td>\n",
              "      <td>Subscriber</td>\n",
              "      <td>30426</td>\n",
              "      <td>female</td>\n",
              "      <td>25</td>\n",
              "      <td>16.03</td>\n",
              "    </tr>\n",
              "    <tr>\n",
              "      <th>1048571</th>\n",
              "      <td>5/10/2018 7:54</td>\n",
              "      <td>5/10/2018 7:56</td>\n",
              "      <td>241</td>\n",
              "      <td>DeKalb Ave &amp; S Portland Ave</td>\n",
              "      <td>324</td>\n",
              "      <td>DeKalb Ave &amp; Hudson Ave</td>\n",
              "      <td>Subscriber</td>\n",
              "      <td>18292</td>\n",
              "      <td>male</td>\n",
              "      <td>28</td>\n",
              "      <td>1.93</td>\n",
              "    </tr>\n",
              "    <tr>\n",
              "      <th>1048572</th>\n",
              "      <td>5/10/2018 7:54</td>\n",
              "      <td>5/10/2018 8:22</td>\n",
              "      <td>427</td>\n",
              "      <td>Bus Slip &amp; State St</td>\n",
              "      <td>448</td>\n",
              "      <td>W 37 St &amp; 10 Ave</td>\n",
              "      <td>Subscriber</td>\n",
              "      <td>31663</td>\n",
              "      <td>male</td>\n",
              "      <td>53</td>\n",
              "      <td>27.38</td>\n",
              "    </tr>\n",
              "    <tr>\n",
              "      <th>1048573</th>\n",
              "      <td>5/10/2018 7:54</td>\n",
              "      <td>5/10/2018 8:01</td>\n",
              "      <td>492</td>\n",
              "      <td>W 33 St &amp; 7 Ave</td>\n",
              "      <td>517</td>\n",
              "      <td>Pershing Square South</td>\n",
              "      <td>Subscriber</td>\n",
              "      <td>32680</td>\n",
              "      <td>male</td>\n",
              "      <td>48</td>\n",
              "      <td>6.62</td>\n",
              "    </tr>\n",
              "    <tr>\n",
              "      <th>1048574</th>\n",
              "      <td>5/10/2018 7:54</td>\n",
              "      <td>5/10/2018 8:04</td>\n",
              "      <td>161</td>\n",
              "      <td>LaGuardia Pl &amp; W 3 St</td>\n",
              "      <td>268</td>\n",
              "      <td>Howard St &amp; Centre St</td>\n",
              "      <td>Subscriber</td>\n",
              "      <td>15687</td>\n",
              "      <td>male</td>\n",
              "      <td>26</td>\n",
              "      <td>9.55</td>\n",
              "    </tr>\n",
              "  </tbody>\n",
              "</table>\n",
              "</div>\n",
              "      <button class=\"colab-df-convert\" onclick=\"convertToInteractive('df-f8204bd5-4c47-489a-83e9-0920a4109d3c')\"\n",
              "              title=\"Convert this dataframe to an interactive table.\"\n",
              "              style=\"display:none;\">\n",
              "        \n",
              "  <svg xmlns=\"http://www.w3.org/2000/svg\" height=\"24px\"viewBox=\"0 0 24 24\"\n",
              "       width=\"24px\">\n",
              "    <path d=\"M0 0h24v24H0V0z\" fill=\"none\"/>\n",
              "    <path d=\"M18.56 5.44l.94 2.06.94-2.06 2.06-.94-2.06-.94-.94-2.06-.94 2.06-2.06.94zm-11 1L8.5 8.5l.94-2.06 2.06-.94-2.06-.94L8.5 2.5l-.94 2.06-2.06.94zm10 10l.94 2.06.94-2.06 2.06-.94-2.06-.94-.94-2.06-.94 2.06-2.06.94z\"/><path d=\"M17.41 7.96l-1.37-1.37c-.4-.4-.92-.59-1.43-.59-.52 0-1.04.2-1.43.59L10.3 9.45l-7.72 7.72c-.78.78-.78 2.05 0 2.83L4 21.41c.39.39.9.59 1.41.59.51 0 1.02-.2 1.41-.59l7.78-7.78 2.81-2.81c.8-.78.8-2.07 0-2.86zM5.41 20L4 18.59l7.72-7.72 1.47 1.35L5.41 20z\"/>\n",
              "  </svg>\n",
              "      </button>\n",
              "      \n",
              "  <style>\n",
              "    .colab-df-container {\n",
              "      display:flex;\n",
              "      flex-wrap:wrap;\n",
              "      gap: 12px;\n",
              "    }\n",
              "\n",
              "    .colab-df-convert {\n",
              "      background-color: #E8F0FE;\n",
              "      border: none;\n",
              "      border-radius: 50%;\n",
              "      cursor: pointer;\n",
              "      display: none;\n",
              "      fill: #1967D2;\n",
              "      height: 32px;\n",
              "      padding: 0 0 0 0;\n",
              "      width: 32px;\n",
              "    }\n",
              "\n",
              "    .colab-df-convert:hover {\n",
              "      background-color: #E2EBFA;\n",
              "      box-shadow: 0px 1px 2px rgba(60, 64, 67, 0.3), 0px 1px 3px 1px rgba(60, 64, 67, 0.15);\n",
              "      fill: #174EA6;\n",
              "    }\n",
              "\n",
              "    [theme=dark] .colab-df-convert {\n",
              "      background-color: #3B4455;\n",
              "      fill: #D2E3FC;\n",
              "    }\n",
              "\n",
              "    [theme=dark] .colab-df-convert:hover {\n",
              "      background-color: #434B5C;\n",
              "      box-shadow: 0px 1px 3px 1px rgba(0, 0, 0, 0.15);\n",
              "      filter: drop-shadow(0px 1px 2px rgba(0, 0, 0, 0.3));\n",
              "      fill: #FFFFFF;\n",
              "    }\n",
              "  </style>\n",
              "\n",
              "      <script>\n",
              "        const buttonEl =\n",
              "          document.querySelector('#df-f8204bd5-4c47-489a-83e9-0920a4109d3c button.colab-df-convert');\n",
              "        buttonEl.style.display =\n",
              "          google.colab.kernel.accessAllowed ? 'block' : 'none';\n",
              "\n",
              "        async function convertToInteractive(key) {\n",
              "          const element = document.querySelector('#df-f8204bd5-4c47-489a-83e9-0920a4109d3c');\n",
              "          const dataTable =\n",
              "            await google.colab.kernel.invokeFunction('convertToInteractive',\n",
              "                                                     [key], {});\n",
              "          if (!dataTable) return;\n",
              "\n",
              "          const docLinkHtml = 'Like what you see? Visit the ' +\n",
              "            '<a target=\"_blank\" href=https://colab.research.google.com/notebooks/data_table.ipynb>data table notebook</a>'\n",
              "            + ' to learn more about interactive tables.';\n",
              "          element.innerHTML = '';\n",
              "          dataTable['output_type'] = 'display_data';\n",
              "          await google.colab.output.renderOutput(dataTable, element);\n",
              "          const docLink = document.createElement('div');\n",
              "          docLink.innerHTML = docLinkHtml;\n",
              "          element.appendChild(docLink);\n",
              "        }\n",
              "      </script>\n",
              "    </div>\n",
              "  </div>\n",
              "  "
            ]
          },
          "metadata": {},
          "execution_count": 4
        }
      ]
    },
    {
      "cell_type": "code",
      "source": [
        "# check the length the dataset\n",
        "len(data)"
      ],
      "metadata": {
        "colab": {
          "base_uri": "https://localhost:8080/"
        },
        "id": "raS1hv6CxSrv",
        "outputId": "39eac4e5-6977-43eb-c826-29c0a32fc80f"
      },
      "execution_count": 5,
      "outputs": [
        {
          "output_type": "execute_result",
          "data": {
            "text/plain": [
              "1048575"
            ]
          },
          "metadata": {},
          "execution_count": 5
        }
      ]
    },
    {
      "cell_type": "code",
      "source": [
        "# Checking for duplicates in the dataset\n",
        "np.sum(data.duplicated())"
      ],
      "metadata": {
        "colab": {
          "base_uri": "https://localhost:8080/"
        },
        "id": "mTgLa9ADe5kP",
        "outputId": "34f1bbf5-089c-40aa-a4c5-87db7c665270"
      },
      "execution_count": 6,
      "outputs": [
        {
          "output_type": "execute_result",
          "data": {
            "text/plain": [
              "0"
            ]
          },
          "metadata": {},
          "execution_count": 6
        }
      ]
    },
    {
      "cell_type": "code",
      "source": [
        "# get data info\n",
        "data.info()"
      ],
      "metadata": {
        "colab": {
          "base_uri": "https://localhost:8080/"
        },
        "id": "D2C-6NHifH-R",
        "outputId": "f7faeaf2-8155-40b0-e2a9-26746c09807f"
      },
      "execution_count": 7,
      "outputs": [
        {
          "output_type": "stream",
          "name": "stdout",
          "text": [
            "<class 'pandas.core.frame.DataFrame'>\n",
            "RangeIndex: 1048575 entries, 0 to 1048574\n",
            "Data columns (total 11 columns):\n",
            " #   Column              Non-Null Count    Dtype  \n",
            "---  ------              --------------    -----  \n",
            " 0   start_time          1048575 non-null  object \n",
            " 1   stop_time           1048575 non-null  object \n",
            " 2   start_station_id    1048575 non-null  int64  \n",
            " 3   start_station_name  1048575 non-null  object \n",
            " 4   end_station_id      1048575 non-null  int64  \n",
            " 5   end_station_name    1048575 non-null  object \n",
            " 6   user_type           1048575 non-null  object \n",
            " 7   bike_id             1048575 non-null  int64  \n",
            " 8   gender              1048575 non-null  object \n",
            " 9   age                 1048575 non-null  int64  \n",
            " 10  trip_duration       1048575 non-null  float64\n",
            "dtypes: float64(1), int64(4), object(6)\n",
            "memory usage: 88.0+ MB\n"
          ]
        }
      ]
    },
    {
      "cell_type": "markdown",
      "source": [
        "The dataset has 1048575 records with neither duplicates nor missing values in it."
      ],
      "metadata": {
        "id": "VzoC2Yx2wNd9"
      }
    },
    {
      "cell_type": "code",
      "source": [
        "# Convert star_time and stop_time into datetime object\n",
        "data = pd.read_csv(\"/content/drive/MyDrive/Datasets/Dataset.csv\",\n",
        "                   parse_dates = [\"start_time\", \"stop_time\"])\n",
        "data.info()"
      ],
      "metadata": {
        "colab": {
          "base_uri": "https://localhost:8080/"
        },
        "id": "s5tNEAXwvD9A",
        "outputId": "d36fb11d-5b16-4574-8ebc-afeef9870b39"
      },
      "execution_count": 8,
      "outputs": [
        {
          "output_type": "stream",
          "name": "stdout",
          "text": [
            "<class 'pandas.core.frame.DataFrame'>\n",
            "RangeIndex: 1048575 entries, 0 to 1048574\n",
            "Data columns (total 11 columns):\n",
            " #   Column              Non-Null Count    Dtype         \n",
            "---  ------              --------------    -----         \n",
            " 0   start_time          1048575 non-null  datetime64[ns]\n",
            " 1   stop_time           1048575 non-null  datetime64[ns]\n",
            " 2   start_station_id    1048575 non-null  int64         \n",
            " 3   start_station_name  1048575 non-null  object        \n",
            " 4   end_station_id      1048575 non-null  int64         \n",
            " 5   end_station_name    1048575 non-null  object        \n",
            " 6   user_type           1048575 non-null  object        \n",
            " 7   bike_id             1048575 non-null  int64         \n",
            " 8   gender              1048575 non-null  object        \n",
            " 9   age                 1048575 non-null  int64         \n",
            " 10  trip_duration       1048575 non-null  float64       \n",
            "dtypes: datetime64[ns](2), float64(1), int64(4), object(4)\n",
            "memory usage: 88.0+ MB\n"
          ]
        }
      ]
    },
    {
      "cell_type": "markdown",
      "source": [
        "## User type with most users"
      ],
      "metadata": {
        "id": "hCr8rK6O8HA_"
      }
    },
    {
      "cell_type": "code",
      "source": [
        "# Get the count of the unique values of the user_type\n",
        "user_type = data[\"user_type\"].value_counts()\n",
        "user_type"
      ],
      "metadata": {
        "colab": {
          "base_uri": "https://localhost:8080/"
        },
        "id": "EpVGLzTEisM2",
        "outputId": "e72a6b32-c06b-4162-98ad-652b2c018db6"
      },
      "execution_count": 9,
      "outputs": [
        {
          "output_type": "execute_result",
          "data": {
            "text/plain": [
              "Subscriber    998819\n",
              "Customer       49756\n",
              "Name: user_type, dtype: int64"
            ]
          },
          "metadata": {},
          "execution_count": 9
        }
      ]
    },
    {
      "cell_type": "code",
      "source": [
        "# Compaire user types using a bar graph\n",
        "data[\"user_type\"].value_counts().plot(figsize = (8,5), kind = \"bar\", label = True, color =\"g\");\n",
        "plt.title(\"Comparing Subscriber and Customer user types\", fontsize = (15));"
      ],
      "metadata": {
        "colab": {
          "base_uri": "https://localhost:8080/",
          "height": 381
        },
        "id": "BUrv5DF0hnz-",
        "outputId": "222710fc-5234-43e2-e30f-5ef48218210d"
      },
      "execution_count": 56,
      "outputs": [
        {
          "output_type": "display_data",
          "data": {
            "text/plain": [
              "<Figure size 576x360 with 1 Axes>"
            ],
            "image/png": "[encoded data removed]"
          },
          "metadata": {}
        }
      ]
    },
    {
      "cell_type": "markdown",
      "source": [
        "## Gender with most users"
      ],
      "metadata": {
        "id": "l_eQ6oag7-vk"
      }
    },
    {
      "cell_type": "code",
      "source": [
        "# Get the total count of each gender class in the dataset\n",
        "data[\"gender\"].value_counts()"
      ],
      "metadata": {
        "colab": {
          "base_uri": "https://localhost:8080/"
        },
        "id": "MORvhJDRfhC6",
        "outputId": "eae6d825-1cd7-457d-8ebd-8b070186ab35"
      },
      "execution_count": 11,
      "outputs": [
        {
          "output_type": "execute_result",
          "data": {
            "text/plain": [
              "male      775886\n",
              "female    272689\n",
              "Name: gender, dtype: int64"
            ]
          },
          "metadata": {},
          "execution_count": 11
        }
      ]
    },
    {
      "cell_type": "code",
      "source": [
        "# Visualize the count of the two genders above\n",
        "data[\"gender\"].value_counts().plot(figsize = (8,5), kind = \"bar\", label = True, color =\"g\");\n",
        "plt.title(\"Comparing the Male and Female users gender\", fontsize = (15));"
      ],
      "metadata": {
        "colab": {
          "base_uri": "https://localhost:8080/",
          "height": 362
        },
        "id": "w_8NeB2O_k9F",
        "outputId": "b95f35f7-14aa-41fc-d241-61b5d6332509"
      },
      "execution_count": 57,
      "outputs": [
        {
          "output_type": "display_data",
          "data": {
            "text/plain": [
              "<Figure size 576x360 with 1 Axes>"
            ],
            "image/png": "[encoded data removed]"
          },
          "metadata": {}
        }
      ]
    },
    {
      "cell_type": "markdown",
      "source": [
        "## Group users into a Five-Years Age Groups"
      ],
      "metadata": {
        "id": "yYMY0vRP8eWh"
      }
    },
    {
      "cell_type": "code",
      "source": [
        "# Check for the minimum age in the dataset\n",
        "np.min(data[\"age\"])"
      ],
      "metadata": {
        "colab": {
          "base_uri": "https://localhost:8080/"
        },
        "id": "8Pcq6JKef3GR",
        "outputId": "0a83d0d2-75d9-4dbe-9745-4de6d04bde8d"
      },
      "execution_count": 13,
      "outputs": [
        {
          "output_type": "execute_result",
          "data": {
            "text/plain": [
              "16"
            ]
          },
          "metadata": {},
          "execution_count": 13
        }
      ]
    },
    {
      "cell_type": "code",
      "source": [
        "# Check for the maximum age in the dataset\n",
        "np.max(data[\"age\"])"
      ],
      "metadata": {
        "colab": {
          "base_uri": "https://localhost:8080/"
        },
        "id": "lZ-Lwgl8f3fW",
        "outputId": "04d0d6a6-17ea-476e-863c-0454bd1ec4fd"
      },
      "execution_count": 14,
      "outputs": [
        {
          "output_type": "execute_result",
          "data": {
            "text/plain": [
              "65"
            ]
          },
          "metadata": {},
          "execution_count": 14
        }
      ]
    },
    {
      "cell_type": "code",
      "source": [
        "# Creating a 5-years age groups\n",
        "i = 15\n",
        "age_group = []\n",
        "while i < 70:\n",
        "    age = i + 4\n",
        "    age_group.append(f\"{i}-{age}\")\n",
        "    i+=5\n",
        "\n",
        "age_group"
      ],
      "metadata": {
        "colab": {
          "base_uri": "https://localhost:8080/"
        },
        "id": "7Z4yaBc1f5Qb",
        "outputId": "0a3a2e7a-0f2f-40e8-eef1-8683b7f6100e"
      },
      "execution_count": 15,
      "outputs": [
        {
          "output_type": "execute_result",
          "data": {
            "text/plain": [
              "['15-19',\n",
              " '20-24',\n",
              " '25-29',\n",
              " '30-34',\n",
              " '35-39',\n",
              " '40-44',\n",
              " '45-49',\n",
              " '50-54',\n",
              " '55-59',\n",
              " '60-64',\n",
              " '65-69']"
            ]
          },
          "metadata": {},
          "execution_count": 15
        }
      ]
    },
    {
      "cell_type": "code",
      "source": [
        "# Create age_group column to the dataset (of zeros)\n",
        "data[\"age_group\"] = 0"
      ],
      "metadata": {
        "id": "ut9Ez12ugDRs"
      },
      "execution_count": 16,
      "outputs": []
    },
    {
      "cell_type": "code",
      "source": [
        "# confirm the length of our new colum is similar to that of the dataset\n",
        "len(data[\"age_group\"])"
      ],
      "metadata": {
        "colab": {
          "base_uri": "https://localhost:8080/"
        },
        "id": "cgaVmfn-gGdo",
        "outputId": "2e1ad60d-3fc9-436c-b6bd-7db36345fa2e"
      },
      "execution_count": 17,
      "outputs": [
        {
          "output_type": "execute_result",
          "data": {
            "text/plain": [
              "1048575"
            ]
          },
          "metadata": {},
          "execution_count": 17
        }
      ]
    },
    {
      "cell_type": "code",
      "source": [
        "# Asign appropriate classes to all users\n",
        "for i in enumerate(data[\"age\"]):\n",
        "    if i[1] >= 15 and i[1] <= 19:\n",
        "        data[\"age_group\"][i[0]]  = age_group[0]\n",
        "    elif i[1] >= 20 and i[1] <= 24:\n",
        "        data[\"age_group\"][i[0]]  = age_group[1]\n",
        "    elif i[1] >= 25 and i[1] <= 29:\n",
        "        data[\"age_group\"][i[0]]  = age_group[2]\n",
        "    elif i[1] >= 30 and i[1] <= 34:\n",
        "        data[\"age_group\"][i[0]]  = age_group[3]\n",
        "    elif i[1] >= 35 and i[1] <= 39:\n",
        "        data[\"age_group\"][i[0]]  = age_group[4]\n",
        "    elif i[1] >= 40 and i[1] <= 44:\n",
        "        data[\"age_group\"][i[0]]  = age_group[5]\n",
        "    elif i[1] >= 45 and i[1] <= 49:\n",
        "        data[\"age_group\"][i[0]]  = age_group[6]\n",
        "    elif i[1] >= 50 and i[1] <= 54:\n",
        "        data[\"age_group\"][i[0]]  = age_group[7]\n",
        "    elif i[1] >= 55 and i[1] <= 59:\n",
        "        data[\"age_group\"][i[0]]  = age_group[8]\n",
        "    elif i[1] >= 60 and i[1] <= 64:\n",
        "        data[\"age_group\"][i[0]]  = age_group[9]\n",
        "    else:\n",
        "        data[\"age_group\"][i[0]]  = age_group[10]"
      ],
      "metadata": {
        "colab": {
          "base_uri": "https://localhost:8080/"
        },
        "id": "2bnbyiCIgOKv",
        "outputId": "4aee110a-1a48-472d-aace-5466a5956607"
      },
      "execution_count": 18,
      "outputs": [
        {
          "output_type": "stream",
          "name": "stderr",
          "text": [
            "/usr/local/lib/python3.7/dist-packages/ipykernel_launcher.py:10: SettingWithCopyWarning: \n",
            "A value is trying to be set on a copy of a slice from a DataFrame\n",
            "\n",
            "See the caveats in the documentation: https://pandas.pydata.org/pandas-docs/stable/user_guide/indexing.html#returning-a-view-versus-a-copy\n",
            "  # Remove the CWD from sys.path while we load stuff.\n",
            "/usr/local/lib/python3.7/dist-packages/pandas/core/indexing.py:1732: SettingWithCopyWarning: \n",
            "A value is trying to be set on a copy of a slice from a DataFrame\n",
            "\n",
            "See the caveats in the documentation: https://pandas.pydata.org/pandas-docs/stable/user_guide/indexing.html#returning-a-view-versus-a-copy\n",
            "  self._setitem_single_block(indexer, value, name)\n"
          ]
        }
      ]
    },
    {
      "cell_type": "code",
      "source": [
        "# Get the total count of user under each class\n",
        "user_groups = data[\"age_group\"].value_counts()\n",
        "user_groups"
      ],
      "metadata": {
        "colab": {
          "base_uri": "https://localhost:8080/"
        },
        "id": "6-dubyuvgQ-j",
        "outputId": "2b8e892e-744e-4c19-c384-0a27f93f0683"
      },
      "execution_count": 60,
      "outputs": [
        {
          "output_type": "execute_result",
          "data": {
            "text/plain": [
              "30-34    210681\n",
              "25-29    210251\n",
              "35-39    153059\n",
              "40-44    110530\n",
              "45-49    100935\n",
              "50-54     80597\n",
              "20-24     67165\n",
              "55-59     63926\n",
              "60-64     38349\n",
              "15-19      8109\n",
              "65-69      4973\n",
              "Name: age_group, dtype: int64"
            ]
          },
          "metadata": {},
          "execution_count": 60
        }
      ]
    },
    {
      "cell_type": "code",
      "source": [
        "# Create a dataframe of age-groups and the count of users in each \n",
        "# reindex the dataframe by order of the age_groups list we \n",
        "# previously created (this ensures data we obtain follows the order of the class)\n",
        "data_set = pd.DataFrame({\"Age_group\": user_groups.index[:], \"Users\": user_groups}).reindex(age_group)\n",
        "data_set"
      ],
      "metadata": {
        "colab": {
          "base_uri": "https://localhost:8080/",
          "height": 394
        },
        "id": "_TmOXDyz9kl5",
        "outputId": "0d2872f0-7c9c-4bd2-e1a7-8a66ef42d3a7"
      },
      "execution_count": 20,
      "outputs": [
        {
          "output_type": "execute_result",
          "data": {
            "text/plain": [
              "      Age_group   Users\n",
              "15-19     15-19    8109\n",
              "20-24     20-24   67165\n",
              "25-29     25-29  210251\n",
              "30-34     30-34  210681\n",
              "35-39     35-39  153059\n",
              "40-44     40-44  110530\n",
              "45-49     45-49  100935\n",
              "50-54     50-54   80597\n",
              "55-59     55-59   63926\n",
              "60-64     60-64   38349\n",
              "65-69     65-69    4973"
            ],
            "text/html": [
              "\n",
              "  <div id=\"df-850e0148-a4ba-4ba5-b130-e8c6d5ba9290\">\n",
              "    <div class=\"colab-df-container\">\n",
              "      <div>\n",
              "<style scoped>\n",
              "    .dataframe tbody tr th:only-of-type {\n",
              "        vertical-align: middle;\n",
              "    }\n",
              "\n",
              "    .dataframe tbody tr th {\n",
              "        vertical-align: top;\n",
              "    }\n",
              "\n",
              "    .dataframe thead th {\n",
              "        text-align: right;\n",
              "    }\n",
              "</style>\n",
              "<table border=\"1\" class=\"dataframe\">\n",
              "  <thead>\n",
              "    <tr style=\"text-align: right;\">\n",
              "      <th></th>\n",
              "      <th>Age_group</th>\n",
              "      <th>Users</th>\n",
              "    </tr>\n",
              "  </thead>\n",
              "  <tbody>\n",
              "    <tr>\n",
              "      <th>15-19</th>\n",
              "      <td>15-19</td>\n",
              "      <td>8109</td>\n",
              "    </tr>\n",
              "    <tr>\n",
              "      <th>20-24</th>\n",
              "      <td>20-24</td>\n",
              "      <td>67165</td>\n",
              "    </tr>\n",
              "    <tr>\n",
              "      <th>25-29</th>\n",
              "      <td>25-29</td>\n",
              "      <td>210251</td>\n",
              "    </tr>\n",
              "    <tr>\n",
              "      <th>30-34</th>\n",
              "      <td>30-34</td>\n",
              "      <td>210681</td>\n",
              "    </tr>\n",
              "    <tr>\n",
              "      <th>35-39</th>\n",
              "      <td>35-39</td>\n",
              "      <td>153059</td>\n",
              "    </tr>\n",
              "    <tr>\n",
              "      <th>40-44</th>\n",
              "      <td>40-44</td>\n",
              "      <td>110530</td>\n",
              "    </tr>\n",
              "    <tr>\n",
              "      <th>45-49</th>\n",
              "      <td>45-49</td>\n",
              "      <td>100935</td>\n",
              "    </tr>\n",
              "    <tr>\n",
              "      <th>50-54</th>\n",
              "      <td>50-54</td>\n",
              "      <td>80597</td>\n",
              "    </tr>\n",
              "    <tr>\n",
              "      <th>55-59</th>\n",
              "      <td>55-59</td>\n",
              "      <td>63926</td>\n",
              "    </tr>\n",
              "    <tr>\n",
              "      <th>60-64</th>\n",
              "      <td>60-64</td>\n",
              "      <td>38349</td>\n",
              "    </tr>\n",
              "    <tr>\n",
              "      <th>65-69</th>\n",
              "      <td>65-69</td>\n",
              "      <td>4973</td>\n",
              "    </tr>\n",
              "  </tbody>\n",
              "</table>\n",
              "</div>\n",
              "      <button class=\"colab-df-convert\" onclick=\"convertToInteractive('df-850e0148-a4ba-4ba5-b130-e8c6d5ba9290')\"\n",
              "              title=\"Convert this dataframe to an interactive table.\"\n",
              "              style=\"display:none;\">\n",
              "        \n",
              "  <svg xmlns=\"http://www.w3.org/2000/svg\" height=\"24px\"viewBox=\"0 0 24 24\"\n",
              "       width=\"24px\">\n",
              "    <path d=\"M0 0h24v24H0V0z\" fill=\"none\"/>\n",
              "    <path d=\"M18.56 5.44l.94 2.06.94-2.06 2.06-.94-2.06-.94-.94-2.06-.94 2.06-2.06.94zm-11 1L8.5 8.5l.94-2.06 2.06-.94-2.06-.94L8.5 2.5l-.94 2.06-2.06.94zm10 10l.94 2.06.94-2.06 2.06-.94-2.06-.94-.94-2.06-.94 2.06-2.06.94z\"/><path d=\"M17.41 7.96l-1.37-1.37c-.4-.4-.92-.59-1.43-.59-.52 0-1.04.2-1.43.59L10.3 9.45l-7.72 7.72c-.78.78-.78 2.05 0 2.83L4 21.41c.39.39.9.59 1.41.59.51 0 1.02-.2 1.41-.59l7.78-7.78 2.81-2.81c.8-.78.8-2.07 0-2.86zM5.41 20L4 18.59l7.72-7.72 1.47 1.35L5.41 20z\"/>\n",
              "  </svg>\n",
              "      </button>\n",
              "      \n",
              "  <style>\n",
              "    .colab-df-container {\n",
              "      display:flex;\n",
              "      flex-wrap:wrap;\n",
              "      gap: 12px;\n",
              "    }\n",
              "\n",
              "    .colab-df-convert {\n",
              "      background-color: #E8F0FE;\n",
              "      border: none;\n",
              "      border-radius: 50%;\n",
              "      cursor: pointer;\n",
              "      display: none;\n",
              "      fill: #1967D2;\n",
              "      height: 32px;\n",
              "      padding: 0 0 0 0;\n",
              "      width: 32px;\n",
              "    }\n",
              "\n",
              "    .colab-df-convert:hover {\n",
              "      background-color: #E2EBFA;\n",
              "      box-shadow: 0px 1px 2px rgba(60, 64, 67, 0.3), 0px 1px 3px 1px rgba(60, 64, 67, 0.15);\n",
              "      fill: #174EA6;\n",
              "    }\n",
              "\n",
              "    [theme=dark] .colab-df-convert {\n",
              "      background-color: #3B4455;\n",
              "      fill: #D2E3FC;\n",
              "    }\n",
              "\n",
              "    [theme=dark] .colab-df-convert:hover {\n",
              "      background-color: #434B5C;\n",
              "      box-shadow: 0px 1px 3px 1px rgba(0, 0, 0, 0.15);\n",
              "      filter: drop-shadow(0px 1px 2px rgba(0, 0, 0, 0.3));\n",
              "      fill: #FFFFFF;\n",
              "    }\n",
              "  </style>\n",
              "\n",
              "      <script>\n",
              "        const buttonEl =\n",
              "          document.querySelector('#df-850e0148-a4ba-4ba5-b130-e8c6d5ba9290 button.colab-df-convert');\n",
              "        buttonEl.style.display =\n",
              "          google.colab.kernel.accessAllowed ? 'block' : 'none';\n",
              "\n",
              "        async function convertToInteractive(key) {\n",
              "          const element = document.querySelector('#df-850e0148-a4ba-4ba5-b130-e8c6d5ba9290');\n",
              "          const dataTable =\n",
              "            await google.colab.kernel.invokeFunction('convertToInteractive',\n",
              "                                                     [key], {});\n",
              "          if (!dataTable) return;\n",
              "\n",
              "          const docLinkHtml = 'Like what you see? Visit the ' +\n",
              "            '<a target=\"_blank\" href=https://colab.research.google.com/notebooks/data_table.ipynb>data table notebook</a>'\n",
              "            + ' to learn more about interactive tables.';\n",
              "          element.innerHTML = '';\n",
              "          dataTable['output_type'] = 'display_data';\n",
              "          await google.colab.output.renderOutput(dataTable, element);\n",
              "          const docLink = document.createElement('div');\n",
              "          docLink.innerHTML = docLinkHtml;\n",
              "          element.appendChild(docLink);\n",
              "        }\n",
              "      </script>\n",
              "    </div>\n",
              "  </div>\n",
              "  "
            ]
          },
          "metadata": {},
          "execution_count": 20
        }
      ]
    },
    {
      "cell_type": "code",
      "source": [
        "# Create a table using the above dataframe\n",
        "users_data = data_set\n",
        "col_head = (\"Age group\", \"Users\")\n",
        "users_data_np = users_data.to_numpy()\n",
        "# define the figure to plot the data\n",
        "plt.figure(linewidth = 2, tight_layout={\"pad\": 0.5}, figsize = (2,1))\n",
        "\n",
        "axes_8 = plt.gca()\n",
        "axes_8.get_xaxis().set_visible(False)\n",
        "axes_8.get_yaxis().set_visible(False)\n",
        "plt.box(on = None)\n",
        "\n",
        "# craete a color map\n",
        "ccolors = plt.cm.Blues(np.full(len(col_head), 0.5))\n",
        "the_table = plt.table(cellText = users_data_np, loc =\"left\", colLabels= col_head,\n",
        "                      colColours = ccolors)\n",
        "# define font sizee\n",
        "the_table.set_fontsize(14);\n",
        "the_table.scale(3, 2.5);"
      ],
      "metadata": {
        "colab": {
          "base_uri": "https://localhost:8080/",
          "height": 483
        },
        "id": "t93q05LP9kjZ",
        "outputId": "a5863bcb-96f4-43d7-f168-76e4e97e5b12"
      },
      "execution_count": 21,
      "outputs": [
        {
          "output_type": "stream",
          "name": "stderr",
          "text": [
            "/usr/local/lib/python3.7/dist-packages/IPython/core/events.py:88: UserWarning: Tight layout not applied. The left and right margins cannot be made large enough to accommodate all axes decorations. \n",
            "  func(*args, **kwargs)\n",
            "/usr/local/lib/python3.7/dist-packages/IPython/core/pylabtools.py:128: UserWarning: Tight layout not applied. The left and right margins cannot be made large enough to accommodate all axes decorations. \n",
            "  fig.canvas.print_figure(bytes_io, **kw)\n"
          ]
        },
        {
          "output_type": "display_data",
          "data": {
            "text/plain": [
              "<Figure size 144x72 with 1 Axes>"
            ],
            "image/png": "[encoded data removed]"
          },
          "metadata": {
            "needs_background": "light"
          }
        }
      ]
    },
    {
      "cell_type": "code",
      "source": [
        "# plot the data\n",
        "\n",
        "# Get indeces\n",
        "Indeces = user_groups.index[:]\n",
        "print(Indeces.tolist())"
      ],
      "metadata": {
        "colab": {
          "base_uri": "https://localhost:8080/"
        },
        "id": "Izz3NZ91gXpg",
        "outputId": "c9b86ba5-cb67-491c-9694-cc465d56266f"
      },
      "execution_count": 59,
      "outputs": [
        {
          "output_type": "stream",
          "name": "stdout",
          "text": [
            "['30-34', '25-29', '35-39', '40-44', '45-49', '50-54', '20-24', '55-59', '60-64', '15-19', '65-69']\n"
          ]
        }
      ]
    },
    {
      "cell_type": "code",
      "source": [
        "plt.figure(figsize=(8,8))\n",
        "plt.bar(Indeces, user_groups, color = \"violet\")\n",
        "plt.title(\"Number of bike users per Age-group\\n in May 2018\", fontsize = 20)\n",
        "plt.xticks(rotation = 50)\n",
        "\n",
        "# giving X and Y labels\n",
        "plt.xlabel(\"Age-groups\")\n",
        "plt.ylabel(\"Number of Users\")\n",
        "plt.show();"
      ],
      "metadata": {
        "colab": {
          "base_uri": "https://localhost:8080/",
          "height": 559
        },
        "id": "f_AG55Edg2gf",
        "outputId": "07a00336-c3e7-44ec-e1da-3475bad58739"
      },
      "execution_count": 61,
      "outputs": [
        {
          "output_type": "display_data",
          "data": {
            "text/plain": [
              "<Figure size 576x576 with 1 Axes>"
            ],
            "image/png": "[encoded data removed]"
          },
          "metadata": {}
        }
      ]
    },
    {
      "cell_type": "code",
      "source": [
        "# Creating a 5 increment age groups\n",
        "i = 15\n",
        "age_group_10 = []\n",
        "while i < 70:\n",
        "    age = i + 9\n",
        "    age_group_10.append(f\"{i}-{age}\")\n",
        "    i+=10\n",
        "\n",
        "age_group_10"
      ],
      "metadata": {
        "colab": {
          "base_uri": "https://localhost:8080/"
        },
        "id": "d2SvmT7PhNvH",
        "outputId": "5983eb5f-c0e9-4816-aa72-cd7985745426"
      },
      "execution_count": 62,
      "outputs": [
        {
          "output_type": "execute_result",
          "data": {
            "text/plain": [
              "['15-24', '25-34', '35-44', '45-54', '55-64', '65-74']"
            ]
          },
          "metadata": {},
          "execution_count": 62
        }
      ]
    },
    {
      "cell_type": "code",
      "source": [
        "# Create age_group column (with zeros)\n",
        "data[\"age_group_10\"] = 0"
      ],
      "metadata": {
        "id": "AStiT0a_hwuA"
      },
      "execution_count": 63,
      "outputs": []
    },
    {
      "cell_type": "code",
      "source": [
        "for i in enumerate(data[\"age\"]):\n",
        "    if i[1] >= 15 and i[1] <= 24:\n",
        "        data[\"age_group_10\"][i[0]]  = age_group_10[0]\n",
        "    elif i[1] >= 25 and i[1] <= 34:\n",
        "        data[\"age_group_10\"][i[0]]  = age_group_10[1]\n",
        "    elif i[1] >= 35 and i[1] <= 44:\n",
        "        data[\"age_group_10\"][i[0]]  = age_group_10[2]\n",
        "    elif i[1] >= 45 and i[1] <= 54:\n",
        "        data[\"age_group_10\"][i[0]]  = age_group_10[3]\n",
        "    elif i[1] >= 55 and i[1] <= 64:\n",
        "        data[\"age_group_10\"][i[0]]  = age_group_10[4]\n",
        "    else:\n",
        "        data[\"age_group_10\"][i[0]]  = age_group_10[5]"
      ],
      "metadata": {
        "colab": {
          "base_uri": "https://localhost:8080/"
        },
        "id": "bI7Wx13Fh_uN",
        "outputId": "33313589-c0af-4f38-a90a-8953552264d7"
      },
      "execution_count": 64,
      "outputs": [
        {
          "output_type": "stream",
          "name": "stderr",
          "text": [
            "/usr/local/lib/python3.7/dist-packages/ipykernel_launcher.py:5: SettingWithCopyWarning: \n",
            "A value is trying to be set on a copy of a slice from a DataFrame\n",
            "\n",
            "See the caveats in the documentation: https://pandas.pydata.org/pandas-docs/stable/user_guide/indexing.html#returning-a-view-versus-a-copy\n",
            "  \"\"\"\n",
            "/usr/local/lib/python3.7/dist-packages/pandas/core/indexing.py:1732: SettingWithCopyWarning: \n",
            "A value is trying to be set on a copy of a slice from a DataFrame\n",
            "\n",
            "See the caveats in the documentation: https://pandas.pydata.org/pandas-docs/stable/user_guide/indexing.html#returning-a-view-versus-a-copy\n",
            "  self._setitem_single_block(indexer, value, name)\n"
          ]
        }
      ]
    },
    {
      "cell_type": "code",
      "source": [
        "user_groups_10 = data[\"age_group_10\"].value_counts()\n",
        "user_groups_10"
      ],
      "metadata": {
        "colab": {
          "base_uri": "https://localhost:8080/"
        },
        "id": "H_jX4JcIi6_0",
        "outputId": "72dfcb04-671c-43ae-ca0a-723837ac32dd"
      },
      "execution_count": 65,
      "outputs": [
        {
          "output_type": "execute_result",
          "data": {
            "text/plain": [
              "25-34    420932\n",
              "35-44    263589\n",
              "45-54    181532\n",
              "55-64    102275\n",
              "15-24     75274\n",
              "65-74      4973\n",
              "Name: age_group_10, dtype: int64"
            ]
          },
          "metadata": {},
          "execution_count": 65
        }
      ]
    },
    {
      "cell_type": "code",
      "source": [
        "users_data_10 = pd.DataFrame({\"Age_group\": user_groups_10.index[:], \"Users\": user_groups_10}).reindex(age_group_10)\n",
        "users_data_10"
      ],
      "metadata": {
        "colab": {
          "base_uri": "https://localhost:8080/",
          "height": 237
        },
        "id": "Cs_7VEkOCtG6",
        "outputId": "bbc11b8f-0435-4fa4-bba7-f02096b9c351"
      },
      "execution_count": 66,
      "outputs": [
        {
          "output_type": "execute_result",
          "data": {
            "text/plain": [
              "      Age_group   Users\n",
              "15-24     15-24   75274\n",
              "25-34     25-34  420932\n",
              "35-44     35-44  263589\n",
              "45-54     45-54  181532\n",
              "55-64     55-64  102275\n",
              "65-74     65-74    4973"
            ],
            "text/html": [
              "\n",
              "  <div id=\"df-a60d4645-0eb8-4316-9e58-889df65e3671\">\n",
              "    <div class=\"colab-df-container\">\n",
              "      <div>\n",
              "<style scoped>\n",
              "    .dataframe tbody tr th:only-of-type {\n",
              "        vertical-align: middle;\n",
              "    }\n",
              "\n",
              "    .dataframe tbody tr th {\n",
              "        vertical-align: top;\n",
              "    }\n",
              "\n",
              "    .dataframe thead th {\n",
              "        text-align: right;\n",
              "    }\n",
              "</style>\n",
              "<table border=\"1\" class=\"dataframe\">\n",
              "  <thead>\n",
              "    <tr style=\"text-align: right;\">\n",
              "      <th></th>\n",
              "      <th>Age_group</th>\n",
              "      <th>Users</th>\n",
              "    </tr>\n",
              "  </thead>\n",
              "  <tbody>\n",
              "    <tr>\n",
              "      <th>15-24</th>\n",
              "      <td>15-24</td>\n",
              "      <td>75274</td>\n",
              "    </tr>\n",
              "    <tr>\n",
              "      <th>25-34</th>\n",
              "      <td>25-34</td>\n",
              "      <td>420932</td>\n",
              "    </tr>\n",
              "    <tr>\n",
              "      <th>35-44</th>\n",
              "      <td>35-44</td>\n",
              "      <td>263589</td>\n",
              "    </tr>\n",
              "    <tr>\n",
              "      <th>45-54</th>\n",
              "      <td>45-54</td>\n",
              "      <td>181532</td>\n",
              "    </tr>\n",
              "    <tr>\n",
              "      <th>55-64</th>\n",
              "      <td>55-64</td>\n",
              "      <td>102275</td>\n",
              "    </tr>\n",
              "    <tr>\n",
              "      <th>65-74</th>\n",
              "      <td>65-74</td>\n",
              "      <td>4973</td>\n",
              "    </tr>\n",
              "  </tbody>\n",
              "</table>\n",
              "</div>\n",
              "      <button class=\"colab-df-convert\" onclick=\"convertToInteractive('df-a60d4645-0eb8-4316-9e58-889df65e3671')\"\n",
              "              title=\"Convert this dataframe to an interactive table.\"\n",
              "              style=\"display:none;\">\n",
              "        \n",
              "  <svg xmlns=\"http://www.w3.org/2000/svg\" height=\"24px\"viewBox=\"0 0 24 24\"\n",
              "       width=\"24px\">\n",
              "    <path d=\"M0 0h24v24H0V0z\" fill=\"none\"/>\n",
              "    <path d=\"M18.56 5.44l.94 2.06.94-2.06 2.06-.94-2.06-.94-.94-2.06-.94 2.06-2.06.94zm-11 1L8.5 8.5l.94-2.06 2.06-.94-2.06-.94L8.5 2.5l-.94 2.06-2.06.94zm10 10l.94 2.06.94-2.06 2.06-.94-2.06-.94-.94-2.06-.94 2.06-2.06.94z\"/><path d=\"M17.41 7.96l-1.37-1.37c-.4-.4-.92-.59-1.43-.59-.52 0-1.04.2-1.43.59L10.3 9.45l-7.72 7.72c-.78.78-.78 2.05 0 2.83L4 21.41c.39.39.9.59 1.41.59.51 0 1.02-.2 1.41-.59l7.78-7.78 2.81-2.81c.8-.78.8-2.07 0-2.86zM5.41 20L4 18.59l7.72-7.72 1.47 1.35L5.41 20z\"/>\n",
              "  </svg>\n",
              "      </button>\n",
              "      \n",
              "  <style>\n",
              "    .colab-df-container {\n",
              "      display:flex;\n",
              "      flex-wrap:wrap;\n",
              "      gap: 12px;\n",
              "    }\n",
              "\n",
              "    .colab-df-convert {\n",
              "      background-color: #E8F0FE;\n",
              "      border: none;\n",
              "      border-radius: 50%;\n",
              "      cursor: pointer;\n",
              "      display: none;\n",
              "      fill: #1967D2;\n",
              "      height: 32px;\n",
              "      padding: 0 0 0 0;\n",
              "      width: 32px;\n",
              "    }\n",
              "\n",
              "    .colab-df-convert:hover {\n",
              "      background-color: #E2EBFA;\n",
              "      box-shadow: 0px 1px 2px rgba(60, 64, 67, 0.3), 0px 1px 3px 1px rgba(60, 64, 67, 0.15);\n",
              "      fill: #174EA6;\n",
              "    }\n",
              "\n",
              "    [theme=dark] .colab-df-convert {\n",
              "      background-color: #3B4455;\n",
              "      fill: #D2E3FC;\n",
              "    }\n",
              "\n",
              "    [theme=dark] .colab-df-convert:hover {\n",
              "      background-color: #434B5C;\n",
              "      box-shadow: 0px 1px 3px 1px rgba(0, 0, 0, 0.15);\n",
              "      filter: drop-shadow(0px 1px 2px rgba(0, 0, 0, 0.3));\n",
              "      fill: #FFFFFF;\n",
              "    }\n",
              "  </style>\n",
              "\n",
              "      <script>\n",
              "        const buttonEl =\n",
              "          document.querySelector('#df-a60d4645-0eb8-4316-9e58-889df65e3671 button.colab-df-convert');\n",
              "        buttonEl.style.display =\n",
              "          google.colab.kernel.accessAllowed ? 'block' : 'none';\n",
              "\n",
              "        async function convertToInteractive(key) {\n",
              "          const element = document.querySelector('#df-a60d4645-0eb8-4316-9e58-889df65e3671');\n",
              "          const dataTable =\n",
              "            await google.colab.kernel.invokeFunction('convertToInteractive',\n",
              "                                                     [key], {});\n",
              "          if (!dataTable) return;\n",
              "\n",
              "          const docLinkHtml = 'Like what you see? Visit the ' +\n",
              "            '<a target=\"_blank\" href=https://colab.research.google.com/notebooks/data_table.ipynb>data table notebook</a>'\n",
              "            + ' to learn more about interactive tables.';\n",
              "          element.innerHTML = '';\n",
              "          dataTable['output_type'] = 'display_data';\n",
              "          await google.colab.output.renderOutput(dataTable, element);\n",
              "          const docLink = document.createElement('div');\n",
              "          docLink.innerHTML = docLinkHtml;\n",
              "          element.appendChild(docLink);\n",
              "        }\n",
              "      </script>\n",
              "    </div>\n",
              "  </div>\n",
              "  "
            ]
          },
          "metadata": {},
          "execution_count": 66
        }
      ]
    },
    {
      "cell_type": "code",
      "source": [
        "users_data = users_data_10\n",
        "col_head = (\"Age group\", \"Users\")\n",
        "users_data_np = users_data.to_numpy()\n",
        "# define the figure to plot the data\n",
        "plt.figure(linewidth = 2, tight_layout={\"pad\": 0.5}, figsize = (2,1))\n",
        "\n",
        "axes_8 = plt.gca()\n",
        "axes_8.get_xaxis().set_visible(False)\n",
        "axes_8.get_yaxis().set_visible(False)\n",
        "plt.box(on = None)\n",
        "\n",
        "# craete a color map\n",
        "ccolors = plt.cm.Blues(np.full(len(col_head), 0.5))\n",
        "the_table = plt.table(cellText = users_data_np, loc =\"left\", colLabels= col_head,\n",
        "                      colColours = ccolors)\n",
        "# define font sizee\n",
        "the_table.set_fontsize(14);\n",
        "the_table.scale(3, 2.5);"
      ],
      "metadata": {
        "colab": {
          "base_uri": "https://localhost:8080/",
          "height": 333
        },
        "id": "Hzp9EdxwKzS-",
        "outputId": "d07c5749-3ae1-4d90-fa8c-9f8d9a153bd1"
      },
      "execution_count": 29,
      "outputs": [
        {
          "output_type": "stream",
          "name": "stderr",
          "text": [
            "/usr/local/lib/python3.7/dist-packages/IPython/core/events.py:88: UserWarning: Tight layout not applied. The left and right margins cannot be made large enough to accommodate all axes decorations. \n",
            "  func(*args, **kwargs)\n",
            "/usr/local/lib/python3.7/dist-packages/IPython/core/pylabtools.py:128: UserWarning: Tight layout not applied. The left and right margins cannot be made large enough to accommodate all axes decorations. \n",
            "  fig.canvas.print_figure(bytes_io, **kw)\n"
          ]
        },
        {
          "output_type": "display_data",
          "data": {
            "text/plain": [
              "<Figure size 144x72 with 1 Axes>"
            ],
            "image/png": "[encoded data removed]"
          },
          "metadata": {
            "needs_background": "light"
          }
        }
      ]
    },
    {
      "cell_type": "code",
      "source": [
        "Indeces = user_groups_10.index[:]\n",
        "print(Indeces.tolist())"
      ],
      "metadata": {
        "colab": {
          "base_uri": "https://localhost:8080/"
        },
        "id": "dAJ6X9bDjKo8",
        "outputId": "fd785a13-2236-4c88-9a50-4f51a2d433bc"
      },
      "execution_count": 67,
      "outputs": [
        {
          "output_type": "stream",
          "name": "stdout",
          "text": [
            "['25-34', '35-44', '45-54', '55-64', '15-24', '65-74']\n"
          ]
        }
      ]
    },
    {
      "cell_type": "code",
      "source": [
        "plt.figure(figsize=(8,8))\n",
        "plt.bar(Indeces, user_groups_10, color = \"violet\")\n",
        "plt.title(\"Number of bike users per age group \\nin May 2018\", fontsize = 15)\n",
        "plt.xticks(rotation = 50)\n",
        "\n",
        "# giving X and Y labels\n",
        "plt.xlabel(\"Age-groups\")\n",
        "plt.ylabel(\"Number of Users\")\n",
        "plt.show();"
      ],
      "metadata": {
        "colab": {
          "base_uri": "https://localhost:8080/",
          "height": 551
        },
        "id": "PSWAd5EEjPeS",
        "outputId": "a65ef17d-d247-4f82-8d31-9986c358c9b7"
      },
      "execution_count": 68,
      "outputs": [
        {
          "output_type": "display_data",
          "data": {
            "text/plain": [
              "<Figure size 576x576 with 1 Axes>"
            ],
            "image/png": "[encoded data removed]"
          },
          "metadata": {}
        }
      ]
    },
    {
      "cell_type": "markdown",
      "source": [
        "## Most Visted station"
      ],
      "metadata": {
        "id": "1KhCu2m1jcnm"
      }
    },
    {
      "cell_type": "code",
      "source": [
        "# Get trips starting station names\n",
        "per_stations_counts = data['start_station_name']\n",
        "first_10 = per_stations_counts[:10]\n",
        "first_10"
      ],
      "metadata": {
        "id": "xGb1V6LJETPx",
        "colab": {
          "base_uri": "https://localhost:8080/"
        },
        "outputId": "0a7c08c6-07d8-4c14-b80d-de35df2f4594"
      },
      "execution_count": 32,
      "outputs": [
        {
          "output_type": "execute_result",
          "data": {
            "text/plain": [
              "0           Allen St & Stanton St\n",
              "1         Allen St & Rivington St\n",
              "2                 E 12 St & 3 Ave\n",
              "3        Bedford Ave & Nassau Ave\n",
              "4    Central Park West & W 102 St\n",
              "5      Classon Ave & St Marks Ave\n",
              "6                 9 Ave & W 45 St\n",
              "7        MacDougal St & Prince St\n",
              "8         Lexington Ave & E 24 St\n",
              "9         Clinton St & Tillary St\n",
              "Name: start_station_name, dtype: object"
            ]
          },
          "metadata": {},
          "execution_count": 32
        }
      ]
    },
    {
      "cell_type": "code",
      "source": [
        "# confirm the algnment of this column with that of the dataset\n",
        "len(per_stations_counts)"
      ],
      "metadata": {
        "colab": {
          "base_uri": "https://localhost:8080/"
        },
        "id": "cIAoJcDwklIs",
        "outputId": "a28e7e4e-9023-49b7-a17a-9586d0b50aed"
      },
      "execution_count": 33,
      "outputs": [
        {
          "output_type": "execute_result",
          "data": {
            "text/plain": [
              "1048575"
            ]
          },
          "metadata": {},
          "execution_count": 33
        }
      ]
    },
    {
      "cell_type": "code",
      "source": [
        "# Have a look at the first 10 names\n",
        "value = first_10.tolist()\n",
        "value"
      ],
      "metadata": {
        "colab": {
          "base_uri": "https://localhost:8080/"
        },
        "id": "17WSxPOOkUZE",
        "outputId": "f41a63cf-5f3c-431d-e9b7-4e9465c9b562"
      },
      "execution_count": 34,
      "outputs": [
        {
          "output_type": "execute_result",
          "data": {
            "text/plain": [
              "['Allen St & Stanton St',\n",
              " 'Allen St & Rivington St',\n",
              " 'E 12 St & 3 Ave',\n",
              " 'Bedford Ave & Nassau Ave',\n",
              " 'Central Park West & W 102 St',\n",
              " 'Classon Ave & St Marks Ave',\n",
              " '9 Ave & W 45 St',\n",
              " 'MacDougal St & Prince St',\n",
              " 'Lexington Ave & E 24 St',\n",
              " 'Clinton St & Tillary St']"
            ]
          },
          "metadata": {},
          "execution_count": 34
        }
      ]
    },
    {
      "cell_type": "code",
      "source": [
        "# Plot first 10 most visted station\n",
        "plt.figure(figsize=(8,7))\n",
        "data['start_station_name'].value_counts()[:10].sort_values(ascending = True).plot(kind='barh', color = \"violet\")\n",
        "plt.title(\"First ten stations with most users\", fontsize = 15)\n",
        "plt.xlabel(\"Number of Users\", fontsize = 10)\n",
        "plt.ylabel(\"Stations\");"
      ],
      "metadata": {
        "colab": {
          "base_uri": "https://localhost:8080/",
          "height": 460
        },
        "id": "099Tt7J-rRw3",
        "outputId": "79af0a28-ff80-48b8-9cbf-fad7a19cdb6b"
      },
      "execution_count": 69,
      "outputs": [
        {
          "output_type": "display_data",
          "data": {
            "text/plain": [
              "<Figure size 576x504 with 1 Axes>"
            ],
            "image/png": "[encoded data removed]"
          },
          "metadata": {}
        }
      ]
    },
    {
      "cell_type": "markdown",
      "source": [
        "## Daily trends for customers"
      ],
      "metadata": {
        "id": "lpUQCxADsUjE"
      }
    },
    {
      "cell_type": "code",
      "source": [
        "# Import datetime\n",
        "import datetime as datetime"
      ],
      "metadata": {
        "id": "-4Eh6aiPDxMT"
      },
      "execution_count": 36,
      "outputs": []
    },
    {
      "cell_type": "code",
      "source": [
        "# Get the start_date column\n",
        "per_stations_counts = data['start_time'].tolist()\n",
        "use_this = per_stations_counts"
      ],
      "metadata": {
        "id": "GnH-aHMOE6_d"
      },
      "execution_count": 37,
      "outputs": []
    },
    {
      "cell_type": "markdown",
      "source": [
        "The data is in the datetime format, you only need the date part. The code below extracts this."
      ],
      "metadata": {
        "id": "qqGNuNaSFV3d"
      }
    },
    {
      "cell_type": "code",
      "source": [
        "# Get the date fro the datetime object\n",
        "date_obj = []\n",
        "for i in use_this:\n",
        "    date_obj.append(f\"{datetime.datetime.date(i)}\")\n",
        "\n",
        "# first 10 dates\n",
        "date_obj[:10]"
      ],
      "metadata": {
        "colab": {
          "base_uri": "https://localhost:8080/"
        },
        "id": "L8igvDSBCyz7",
        "outputId": "077f4634-2ba0-47c5-e935-d6ce0ee6a311"
      },
      "execution_count": 38,
      "outputs": [
        {
          "output_type": "execute_result",
          "data": {
            "text/plain": [
              "['2018-05-31',\n",
              " '2018-05-31',\n",
              " '2018-05-31',\n",
              " '2018-05-31',\n",
              " '2018-05-31',\n",
              " '2018-05-31',\n",
              " '2018-05-31',\n",
              " '2018-05-31',\n",
              " '2018-05-31',\n",
              " '2018-05-31']"
            ]
          },
          "metadata": {},
          "execution_count": 38
        }
      ]
    },
    {
      "cell_type": "code",
      "source": [
        "# confirm the length of the date_obj\n",
        "len(date_obj)"
      ],
      "metadata": {
        "colab": {
          "base_uri": "https://localhost:8080/"
        },
        "id": "SQY8Zz2qMtXX",
        "outputId": "a2eb8f20-1bca-4fcc-a227-7049d1987702"
      },
      "execution_count": 39,
      "outputs": [
        {
          "output_type": "execute_result",
          "data": {
            "text/plain": [
              "1048575"
            ]
          },
          "metadata": {},
          "execution_count": 39
        }
      ]
    },
    {
      "cell_type": "code",
      "source": [
        "# list of the unique dates in the date_obj\n",
        "unique_dates = np.unique(date_obj).tolist()\n",
        "unique_dates"
      ],
      "metadata": {
        "colab": {
          "base_uri": "https://localhost:8080/"
        },
        "id": "HF2MgoBGM9ZR",
        "outputId": "d01db9d6-b8cc-4252-9927-c3d632182af1"
      },
      "execution_count": 40,
      "outputs": [
        {
          "output_type": "execute_result",
          "data": {
            "text/plain": [
              "['2018-05-10',\n",
              " '2018-05-11',\n",
              " '2018-05-12',\n",
              " '2018-05-13',\n",
              " '2018-05-14',\n",
              " '2018-05-15',\n",
              " '2018-05-16',\n",
              " '2018-05-17',\n",
              " '2018-05-18',\n",
              " '2018-05-19',\n",
              " '2018-05-20',\n",
              " '2018-05-21',\n",
              " '2018-05-22',\n",
              " '2018-05-23',\n",
              " '2018-05-24',\n",
              " '2018-05-25',\n",
              " '2018-05-26',\n",
              " '2018-05-27',\n",
              " '2018-05-28',\n",
              " '2018-05-29',\n",
              " '2018-05-30',\n",
              " '2018-05-31']"
            ]
          },
          "metadata": {},
          "execution_count": 40
        }
      ]
    },
    {
      "cell_type": "code",
      "source": [
        "# legth of unique dates\n",
        "len(np.unique(date_obj))"
      ],
      "metadata": {
        "colab": {
          "base_uri": "https://localhost:8080/"
        },
        "id": "s-pMCarZMpId",
        "outputId": "47bdb34d-af0a-4d52-942e-73ecd3f981f6"
      },
      "execution_count": 41,
      "outputs": [
        {
          "output_type": "execute_result",
          "data": {
            "text/plain": [
              "22"
            ]
          },
          "metadata": {},
          "execution_count": 41
        }
      ]
    },
    {
      "cell_type": "markdown",
      "source": [
        "There 22 unique date objects in the start_time column"
      ],
      "metadata": {
        "id": "uyZztHI8DQ-4"
      }
    },
    {
      "cell_type": "code",
      "source": [
        "# Create a series of the date object\n",
        "date_series = pd.Series(date_obj)\n",
        "date_series[:10]"
      ],
      "metadata": {
        "colab": {
          "base_uri": "https://localhost:8080/"
        },
        "id": "GwQBNuHpLZR_",
        "outputId": "61385363-5015-44a9-fae0-20f1ac9f5770"
      },
      "execution_count": 42,
      "outputs": [
        {
          "output_type": "execute_result",
          "data": {
            "text/plain": [
              "0    2018-05-31\n",
              "1    2018-05-31\n",
              "2    2018-05-31\n",
              "3    2018-05-31\n",
              "4    2018-05-31\n",
              "5    2018-05-31\n",
              "6    2018-05-31\n",
              "7    2018-05-31\n",
              "8    2018-05-31\n",
              "9    2018-05-31\n",
              "dtype: object"
            ]
          },
          "metadata": {},
          "execution_count": 42
        }
      ]
    },
    {
      "cell_type": "code",
      "source": [
        "# count the number of unique dates\n",
        "counts = date_series.value_counts()\n",
        "counts"
      ],
      "metadata": {
        "colab": {
          "base_uri": "https://localhost:8080/"
        },
        "id": "-GoyuFIsNiHH",
        "outputId": "2f3a5970-86cf-4992-e291-2dd6535a1601"
      },
      "execution_count": 43,
      "outputs": [
        {
          "output_type": "execute_result",
          "data": {
            "text/plain": [
              "2018-05-24    66487\n",
              "2018-05-23    65464\n",
              "2018-05-30    65266\n",
              "2018-05-11    64771\n",
              "2018-05-21    62287\n",
              "2018-05-29    61958\n",
              "2018-05-25    59854\n",
              "2018-05-14    57726\n",
              "2018-05-18    56761\n",
              "2018-05-10    54027\n",
              "2018-05-31    51898\n",
              "2018-05-15    47463\n",
              "2018-05-20    45749\n",
              "2018-05-17    45472\n",
              "2018-05-22    44965\n",
              "2018-05-26    38953\n",
              "2018-05-28    38673\n",
              "2018-05-16    30795\n",
              "2018-05-12    29330\n",
              "2018-05-13    22635\n",
              "2018-05-27    21670\n",
              "2018-05-19    16371\n",
              "dtype: int64"
            ]
          },
          "metadata": {},
          "execution_count": 43
        }
      ]
    },
    {
      "cell_type": "code",
      "source": [
        "# re-order indeces to the order of incrementing dates\n",
        "count_trends = counts.reindex(unique_dates)\n",
        "dates, users = count_trends.index[:], count_trends.values"
      ],
      "metadata": {
        "id": "Zyl17O-6NuxH"
      },
      "execution_count": 44,
      "outputs": []
    },
    {
      "cell_type": "code",
      "source": [
        "count_trends"
      ],
      "metadata": {
        "colab": {
          "base_uri": "https://localhost:8080/"
        },
        "id": "Eg9nveK5TVx7",
        "outputId": "39fbd714-cddd-4aba-e5c3-5dd2b3d794ac"
      },
      "execution_count": 45,
      "outputs": [
        {
          "output_type": "execute_result",
          "data": {
            "text/plain": [
              "2018-05-10    54027\n",
              "2018-05-11    64771\n",
              "2018-05-12    29330\n",
              "2018-05-13    22635\n",
              "2018-05-14    57726\n",
              "2018-05-15    47463\n",
              "2018-05-16    30795\n",
              "2018-05-17    45472\n",
              "2018-05-18    56761\n",
              "2018-05-19    16371\n",
              "2018-05-20    45749\n",
              "2018-05-21    62287\n",
              "2018-05-22    44965\n",
              "2018-05-23    65464\n",
              "2018-05-24    66487\n",
              "2018-05-25    59854\n",
              "2018-05-26    38953\n",
              "2018-05-27    21670\n",
              "2018-05-28    38673\n",
              "2018-05-29    61958\n",
              "2018-05-30    65266\n",
              "2018-05-31    51898\n",
              "dtype: int64"
            ]
          },
          "metadata": {},
          "execution_count": 45
        }
      ]
    },
    {
      "cell_type": "code",
      "source": [
        "# Create a time series dataframe\n",
        "time_series_data = pd.DataFrame({\"Date\": count_trends.index[:], \"total_users\": count_trends})\n",
        "time_series_data"
      ],
      "metadata": {
        "colab": {
          "base_uri": "https://localhost:8080/",
          "height": 739
        },
        "id": "USgRzSAUOwUc",
        "outputId": "c4cef033-f29b-4535-8883-da8fa72a17b8"
      },
      "execution_count": 46,
      "outputs": [
        {
          "output_type": "execute_result",
          "data": {
            "text/plain": [
              "                  Date  total_users\n",
              "2018-05-10  2018-05-10        54027\n",
              "2018-05-11  2018-05-11        64771\n",
              "2018-05-12  2018-05-12        29330\n",
              "2018-05-13  2018-05-13        22635\n",
              "2018-05-14  2018-05-14        57726\n",
              "2018-05-15  2018-05-15        47463\n",
              "2018-05-16  2018-05-16        30795\n",
              "2018-05-17  2018-05-17        45472\n",
              "2018-05-18  2018-05-18        56761\n",
              "2018-05-19  2018-05-19        16371\n",
              "2018-05-20  2018-05-20        45749\n",
              "2018-05-21  2018-05-21        62287\n",
              "2018-05-22  2018-05-22        44965\n",
              "2018-05-23  2018-05-23        65464\n",
              "2018-05-24  2018-05-24        66487\n",
              "2018-05-25  2018-05-25        59854\n",
              "2018-05-26  2018-05-26        38953\n",
              "2018-05-27  2018-05-27        21670\n",
              "2018-05-28  2018-05-28        38673\n",
              "2018-05-29  2018-05-29        61958\n",
              "2018-05-30  2018-05-30        65266\n",
              "2018-05-31  2018-05-31        51898"
            ],
            "text/html": [
              "\n",
              "  <div id=\"df-dc971203-f0cf-4458-81fb-4f293fdabbc2\">\n",
              "    <div class=\"colab-df-container\">\n",
              "      <div>\n",
              "<style scoped>\n",
              "    .dataframe tbody tr th:only-of-type {\n",
              "        vertical-align: middle;\n",
              "    }\n",
              "\n",
              "    .dataframe tbody tr th {\n",
              "        vertical-align: top;\n",
              "    }\n",
              "\n",
              "    .dataframe thead th {\n",
              "        text-align: right;\n",
              "    }\n",
              "</style>\n",
              "<table border=\"1\" class=\"dataframe\">\n",
              "  <thead>\n",
              "    <tr style=\"text-align: right;\">\n",
              "      <th></th>\n",
              "      <th>Date</th>\n",
              "      <th>total_users</th>\n",
              "    </tr>\n",
              "  </thead>\n",
              "  <tbody>\n",
              "    <tr>\n",
              "      <th>2018-05-10</th>\n",
              "      <td>2018-05-10</td>\n",
              "      <td>54027</td>\n",
              "    </tr>\n",
              "    <tr>\n",
              "      <th>2018-05-11</th>\n",
              "      <td>2018-05-11</td>\n",
              "      <td>64771</td>\n",
              "    </tr>\n",
              "    <tr>\n",
              "      <th>2018-05-12</th>\n",
              "      <td>2018-05-12</td>\n",
              "      <td>29330</td>\n",
              "    </tr>\n",
              "    <tr>\n",
              "      <th>2018-05-13</th>\n",
              "      <td>2018-05-13</td>\n",
              "      <td>22635</td>\n",
              "    </tr>\n",
              "    <tr>\n",
              "      <th>2018-05-14</th>\n",
              "      <td>2018-05-14</td>\n",
              "      <td>57726</td>\n",
              "    </tr>\n",
              "    <tr>\n",
              "      <th>2018-05-15</th>\n",
              "      <td>2018-05-15</td>\n",
              "      <td>47463</td>\n",
              "    </tr>\n",
              "    <tr>\n",
              "      <th>2018-05-16</th>\n",
              "      <td>2018-05-16</td>\n",
              "      <td>30795</td>\n",
              "    </tr>\n",
              "    <tr>\n",
              "      <th>2018-05-17</th>\n",
              "      <td>2018-05-17</td>\n",
              "      <td>45472</td>\n",
              "    </tr>\n",
              "    <tr>\n",
              "      <th>2018-05-18</th>\n",
              "      <td>2018-05-18</td>\n",
              "      <td>56761</td>\n",
              "    </tr>\n",
              "    <tr>\n",
              "      <th>2018-05-19</th>\n",
              "      <td>2018-05-19</td>\n",
              "      <td>16371</td>\n",
              "    </tr>\n",
              "    <tr>\n",
              "      <th>2018-05-20</th>\n",
              "      <td>2018-05-20</td>\n",
              "      <td>45749</td>\n",
              "    </tr>\n",
              "    <tr>\n",
              "      <th>2018-05-21</th>\n",
              "      <td>2018-05-21</td>\n",
              "      <td>62287</td>\n",
              "    </tr>\n",
              "    <tr>\n",
              "      <th>2018-05-22</th>\n",
              "      <td>2018-05-22</td>\n",
              "      <td>44965</td>\n",
              "    </tr>\n",
              "    <tr>\n",
              "      <th>2018-05-23</th>\n",
              "      <td>2018-05-23</td>\n",
              "      <td>65464</td>\n",
              "    </tr>\n",
              "    <tr>\n",
              "      <th>2018-05-24</th>\n",
              "      <td>2018-05-24</td>\n",
              "      <td>66487</td>\n",
              "    </tr>\n",
              "    <tr>\n",
              "      <th>2018-05-25</th>\n",
              "      <td>2018-05-25</td>\n",
              "      <td>59854</td>\n",
              "    </tr>\n",
              "    <tr>\n",
              "      <th>2018-05-26</th>\n",
              "      <td>2018-05-26</td>\n",
              "      <td>38953</td>\n",
              "    </tr>\n",
              "    <tr>\n",
              "      <th>2018-05-27</th>\n",
              "      <td>2018-05-27</td>\n",
              "      <td>21670</td>\n",
              "    </tr>\n",
              "    <tr>\n",
              "      <th>2018-05-28</th>\n",
              "      <td>2018-05-28</td>\n",
              "      <td>38673</td>\n",
              "    </tr>\n",
              "    <tr>\n",
              "      <th>2018-05-29</th>\n",
              "      <td>2018-05-29</td>\n",
              "      <td>61958</td>\n",
              "    </tr>\n",
              "    <tr>\n",
              "      <th>2018-05-30</th>\n",
              "      <td>2018-05-30</td>\n",
              "      <td>65266</td>\n",
              "    </tr>\n",
              "    <tr>\n",
              "      <th>2018-05-31</th>\n",
              "      <td>2018-05-31</td>\n",
              "      <td>51898</td>\n",
              "    </tr>\n",
              "  </tbody>\n",
              "</table>\n",
              "</div>\n",
              "      <button class=\"colab-df-convert\" onclick=\"convertToInteractive('df-dc971203-f0cf-4458-81fb-4f293fdabbc2')\"\n",
              "              title=\"Convert this dataframe to an interactive table.\"\n",
              "              style=\"display:none;\">\n",
              "        \n",
              "  <svg xmlns=\"http://www.w3.org/2000/svg\" height=\"24px\"viewBox=\"0 0 24 24\"\n",
              "       width=\"24px\">\n",
              "    <path d=\"M0 0h24v24H0V0z\" fill=\"none\"/>\n",
              "    <path d=\"M18.56 5.44l.94 2.06.94-2.06 2.06-.94-2.06-.94-.94-2.06-.94 2.06-2.06.94zm-11 1L8.5 8.5l.94-2.06 2.06-.94-2.06-.94L8.5 2.5l-.94 2.06-2.06.94zm10 10l.94 2.06.94-2.06 2.06-.94-2.06-.94-.94-2.06-.94 2.06-2.06.94z\"/><path d=\"M17.41 7.96l-1.37-1.37c-.4-.4-.92-.59-1.43-.59-.52 0-1.04.2-1.43.59L10.3 9.45l-7.72 7.72c-.78.78-.78 2.05 0 2.83L4 21.41c.39.39.9.59 1.41.59.51 0 1.02-.2 1.41-.59l7.78-7.78 2.81-2.81c.8-.78.8-2.07 0-2.86zM5.41 20L4 18.59l7.72-7.72 1.47 1.35L5.41 20z\"/>\n",
              "  </svg>\n",
              "      </button>\n",
              "      \n",
              "  <style>\n",
              "    .colab-df-container {\n",
              "      display:flex;\n",
              "      flex-wrap:wrap;\n",
              "      gap: 12px;\n",
              "    }\n",
              "\n",
              "    .colab-df-convert {\n",
              "      background-color: #E8F0FE;\n",
              "      border: none;\n",
              "      border-radius: 50%;\n",
              "      cursor: pointer;\n",
              "      display: none;\n",
              "      fill: #1967D2;\n",
              "      height: 32px;\n",
              "      padding: 0 0 0 0;\n",
              "      width: 32px;\n",
              "    }\n",
              "\n",
              "    .colab-df-convert:hover {\n",
              "      background-color: #E2EBFA;\n",
              "      box-shadow: 0px 1px 2px rgba(60, 64, 67, 0.3), 0px 1px 3px 1px rgba(60, 64, 67, 0.15);\n",
              "      fill: #174EA6;\n",
              "    }\n",
              "\n",
              "    [theme=dark] .colab-df-convert {\n",
              "      background-color: #3B4455;\n",
              "      fill: #D2E3FC;\n",
              "    }\n",
              "\n",
              "    [theme=dark] .colab-df-convert:hover {\n",
              "      background-color: #434B5C;\n",
              "      box-shadow: 0px 1px 3px 1px rgba(0, 0, 0, 0.15);\n",
              "      filter: drop-shadow(0px 1px 2px rgba(0, 0, 0, 0.3));\n",
              "      fill: #FFFFFF;\n",
              "    }\n",
              "  </style>\n",
              "\n",
              "      <script>\n",
              "        const buttonEl =\n",
              "          document.querySelector('#df-dc971203-f0cf-4458-81fb-4f293fdabbc2 button.colab-df-convert');\n",
              "        buttonEl.style.display =\n",
              "          google.colab.kernel.accessAllowed ? 'block' : 'none';\n",
              "\n",
              "        async function convertToInteractive(key) {\n",
              "          const element = document.querySelector('#df-dc971203-f0cf-4458-81fb-4f293fdabbc2');\n",
              "          const dataTable =\n",
              "            await google.colab.kernel.invokeFunction('convertToInteractive',\n",
              "                                                     [key], {});\n",
              "          if (!dataTable) return;\n",
              "\n",
              "          const docLinkHtml = 'Like what you see? Visit the ' +\n",
              "            '<a target=\"_blank\" href=https://colab.research.google.com/notebooks/data_table.ipynb>data table notebook</a>'\n",
              "            + ' to learn more about interactive tables.';\n",
              "          element.innerHTML = '';\n",
              "          dataTable['output_type'] = 'display_data';\n",
              "          await google.colab.output.renderOutput(dataTable, element);\n",
              "          const docLink = document.createElement('div');\n",
              "          docLink.innerHTML = docLinkHtml;\n",
              "          element.appendChild(docLink);\n",
              "        }\n",
              "      </script>\n",
              "    </div>\n",
              "  </div>\n",
              "  "
            ]
          },
          "metadata": {},
          "execution_count": 46
        }
      ]
    },
    {
      "cell_type": "code",
      "source": [
        "# Create a time series table\n",
        "users_data = time_series_data\n",
        "col_head = (\"Date\", \"Users\")\n",
        "users_data_np = users_data.to_numpy()\n",
        "# define the figure to plot the data\n",
        "plt.figure(linewidth = 2, tight_layout={\"pad\": 0.5}, figsize = (2,1))\n",
        "\n",
        "axes_8 = plt.gca()\n",
        "axes_8.get_xaxis().set_visible(False)\n",
        "axes_8.get_yaxis().set_visible(False)\n",
        "plt.box(on = None)\n",
        "\n",
        "# craete a color map\n",
        "ccolors = plt.cm.Blues(np.full(len(col_head), 0.5))\n",
        "the_table = plt.table(cellText = users_data_np, loc =\"left\", colLabels= col_head,\n",
        "                      colColours = ccolors)\n",
        "# define font sizee\n",
        "the_table.set_fontsize(14);\n",
        "the_table.scale(3, 2.5);"
      ],
      "metadata": {
        "colab": {
          "base_uri": "https://localhost:8080/",
          "height": 813
        },
        "id": "oCUDYwjBPV58",
        "outputId": "35a3ba07-fa29-4c62-f128-7dc15782bec9"
      },
      "execution_count": 47,
      "outputs": [
        {
          "output_type": "stream",
          "name": "stderr",
          "text": [
            "/usr/local/lib/python3.7/dist-packages/IPython/core/events.py:88: UserWarning: Tight layout not applied. The left and right margins cannot be made large enough to accommodate all axes decorations. \n",
            "  func(*args, **kwargs)\n",
            "/usr/local/lib/python3.7/dist-packages/IPython/core/pylabtools.py:128: UserWarning: Tight layout not applied. The left and right margins cannot be made large enough to accommodate all axes decorations. \n",
            "  fig.canvas.print_figure(bytes_io, **kw)\n"
          ]
        },
        {
          "output_type": "display_data",
          "data": {
            "text/plain": [
              "<Figure size 144x72 with 1 Axes>"
            ],
            "image/png": "[encoded data removed]"
          },
          "metadata": {
            "needs_background": "light"
          }
        }
      ]
    },
    {
      "cell_type": "code",
      "source": [
        "# Dates data\n",
        "dates"
      ],
      "metadata": {
        "colab": {
          "base_uri": "https://localhost:8080/"
        },
        "id": "fZnjChbYSzcT",
        "outputId": "f4046f02-b344-41b4-9120-b53a32802d79"
      },
      "execution_count": 48,
      "outputs": [
        {
          "output_type": "execute_result",
          "data": {
            "text/plain": [
              "Index(['2018-05-10', '2018-05-11', '2018-05-12', '2018-05-13', '2018-05-14',\n",
              "       '2018-05-15', '2018-05-16', '2018-05-17', '2018-05-18', '2018-05-19',\n",
              "       '2018-05-20', '2018-05-21', '2018-05-22', '2018-05-23', '2018-05-24',\n",
              "       '2018-05-25', '2018-05-26', '2018-05-27', '2018-05-28', '2018-05-29',\n",
              "       '2018-05-30', '2018-05-31'],\n",
              "      dtype='object')"
            ]
          },
          "metadata": {},
          "execution_count": 48
        }
      ]
    },
    {
      "cell_type": "code",
      "source": [
        "# time series values\n",
        "users"
      ],
      "metadata": {
        "colab": {
          "base_uri": "https://localhost:8080/"
        },
        "id": "SOm1_Q0BS3Fm",
        "outputId": "7e4376d2-a2c8-4dda-b56a-9c8c39a0d3af"
      },
      "execution_count": 49,
      "outputs": [
        {
          "output_type": "execute_result",
          "data": {
            "text/plain": [
              "array([54027, 64771, 29330, 22635, 57726, 47463, 30795, 45472, 56761,\n",
              "       16371, 45749, 62287, 44965, 65464, 66487, 59854, 38953, 21670,\n",
              "       38673, 61958, 65266, 51898])"
            ]
          },
          "metadata": {},
          "execution_count": 49
        }
      ]
    },
    {
      "cell_type": "code",
      "source": [
        "# Create X values\n",
        "x = (np.arange(len(dates)) + 10)\n",
        "x"
      ],
      "metadata": {
        "colab": {
          "base_uri": "https://localhost:8080/"
        },
        "id": "pOhfyZUIVeSq",
        "outputId": "b22f4105-4096-440d-bdca-80d60f6735ef"
      },
      "execution_count": 50,
      "outputs": [
        {
          "output_type": "execute_result",
          "data": {
            "text/plain": [
              "array([10, 11, 12, 13, 14, 15, 16, 17, 18, 19, 20, 21, 22, 23, 24, 25, 26,\n",
              "       27, 28, 29, 30, 31])"
            ]
          },
          "metadata": {},
          "execution_count": 50
        }
      ]
    },
    {
      "cell_type": "code",
      "source": [
        "# Plot time series\n",
        "plt.figure(figsize=(8,5))\n",
        "plt.plot(x, users, c=\"g\")\n",
        "# plt.xticks(x)\n",
        "plt.title(\"Bike users against number of days\", fontsize = (15))\n",
        "plt.ylabel(\"Users\")\n",
        "plt.xlabel(\"Days\")\n",
        "plt.grid(True, color = \"0.6\", dashes = (5,2,1,2));"
      ],
      "metadata": {
        "colab": {
          "base_uri": "https://localhost:8080/",
          "height": 352
        },
        "id": "b-68eUVmTL_6",
        "outputId": "ea4170cb-fa6b-4f97-eb0b-d0a6eff8d775"
      },
      "execution_count": 70,
      "outputs": [
        {
          "output_type": "display_data",
          "data": {
            "text/plain": [
              "<Figure size 576x360 with 1 Axes>"
            ],
            "image/png": "[encoded data removed]"
          },
          "metadata": {}
        }
      ]
    },
    {
      "cell_type": "code",
      "source": [
        "from statsmodels.tsa.seasonal import seasonal_decompose"
      ],
      "metadata": {
        "id": "Ls59lObfnM6N"
      },
      "execution_count": 52,
      "outputs": []
    },
    {
      "cell_type": "code",
      "source": [
        "# Extract components of the timeseries, your can assume either additive or matplicative model in the case of this data\n",
        "ts_decomposition = seasonal_decompose(x=users, model='multiplicative', freq=1)\n",
        "trend_estimate = ts_decomposition.trend\n",
        "\n",
        "# The following components are options, we are not going to use them\n",
        "seasonal_estimate = ts_decomposition.seasonal\n",
        "residual_estimate = ts_decomposition.resid"
      ],
      "metadata": {
        "colab": {
          "base_uri": "https://localhost:8080/"
        },
        "id": "TVlZ7DavVlF7",
        "outputId": "78e457ee-c5b3-47de-d9f7-2eff80d4852a"
      },
      "execution_count": 53,
      "outputs": [
        {
          "output_type": "stream",
          "name": "stderr",
          "text": [
            "/usr/local/lib/python3.7/dist-packages/ipykernel_launcher.py:2: FutureWarning: the 'freq'' keyword is deprecated, use 'period' instead\n",
            "  \n"
          ]
        }
      ]
    },
    {
      "cell_type": "code",
      "source": [
        "# Plot the time series and trend component\n",
        "fig, axes = plt.subplots(2, 1, sharex=True, sharey=False)\n",
        "fig.set_figheight(7)\n",
        "fig.set_figwidth(10)\n",
        "plt.title(\"Daily trend of the number of the bike users in May 2018\")\n",
        "axes[0].plot(users, label='Time_Series', c = \"g\")\n",
        "axes[0].legend(loc='upper left')\n",
        "axes[0].grid(True, color = \"0.6\", dashes = (5,2,1,2))\n",
        "axes[0].title.set_text(\"Original Time Series\")\n",
        "\n",
        "axes[1].plot(trend_estimate, label='Trend', c = \"r\")\n",
        "axes[1].legend(loc='upper left')\n",
        "axes[1].grid(True, color = \"0.6\", dashes = (5,2,1,2));"
      ],
      "metadata": {
        "colab": {
          "base_uri": "https://localhost:8080/",
          "height": 444
        },
        "id": "QI_zXyymm4Nu",
        "outputId": "b27e63f9-d578-43fe-c7df-07f90fa0f9c7"
      },
      "execution_count": 71,
      "outputs": [
        {
          "output_type": "display_data",
          "data": {
            "text/plain": [
              "<Figure size 720x504 with 2 Axes>"
            ],
            "image/png": "[encoded data removed]"
          },
          "metadata": {}
        }
      ]
    },
    {
      "cell_type": "markdown",
      "source": [
        "There isno trend in the dataset"
      ],
      "metadata": {
        "id": "R4_IGalZBbrk"
      }
    }
  ]
}